{
 "cells": [
  {
   "cell_type": "code",
   "execution_count": 21,
   "metadata": {},
   "outputs": [
    {
     "name": "stdout",
     "output_type": "stream",
     "text": [
      "enter a number : 14\n",
      "It is not a prime number\n"
     ]
    }
   ],
   "source": [
    "n=int(input(\"enter a number : \"))\n",
    "if n >= 2:\n",
    "    for i in range(2, n):\n",
    "        if n %i == 0:\n",
    "            print(\"It is not a prime number\")\n",
    "            break\n",
    "        else:\n",
    "            print(\"It is prime number\")\n",
    "else:\n",
    "    print(\"It is not a prime number\")"
   ]
  },
  {
   "cell_type": "code",
   "execution_count": null,
   "metadata": {},
   "outputs": [],
   "source": [
    "#joseph hocanin cozumu\n",
    "\n",
    "n = int(input(\"enter a number to check if it is a prime or not\"))\n",
    "count = 0\n",
    "\n",
    "for i in range(1, n+1):\n",
    "    if n % i == 0: count += 1\n",
    "        \n",
    "if (n == 0) or (n == 1) or (count>=3) : print(f\"{n} is not a prime number\")\n",
    "else: print(f\"{n} is a prime number\")"
   ]
  },
  {
   "cell_type": "code",
   "execution_count": 20,
   "metadata": {},
   "outputs": [
    {
     "name": "stdout",
     "output_type": "stream",
     "text": [
      "Please enter a number17\n",
      "17 is a prime number\n"
     ]
    }
   ],
   "source": [
    "number = int(input(\"Please enter a number\"))\n",
    "if (number % 1 == 0) and (number % number == 0 ) and (number % 2 != 0) and (number % 3 != 0) and (number % 5 != 0) and (number % 7 != 0):\n",
    "    print(f\"{number} is a prime number\")\n",
    "else:\n",
    "    print(f\"{number} is not a prime number\")"
   ]
  },
  {
   "cell_type": "code",
   "execution_count": null,
   "metadata": {},
   "outputs": [],
   "source": []
  }
 ],
 "metadata": {
  "kernelspec": {
   "display_name": "Python 3",
   "language": "python",
   "name": "python3"
  },
  "language_info": {
   "codemirror_mode": {
    "name": "ipython",
    "version": 3
   },
   "file_extension": ".py",
   "mimetype": "text/x-python",
   "name": "python",
   "nbconvert_exporter": "python",
   "pygments_lexer": "ipython3",
   "version": "3.7.6"
  }
 },
 "nbformat": 4,
 "nbformat_minor": 4
}
