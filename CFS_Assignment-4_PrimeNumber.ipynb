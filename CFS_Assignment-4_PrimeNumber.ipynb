{
 "cells": [
  {
   "cell_type": "code",
   "execution_count": 17,
   "metadata": {},
   "outputs": [
    {
     "name": "stdout",
     "output_type": "stream",
     "text": [
      "enter a number : 14\n",
      "It is not a prime number\n",
      "It is prime number\n",
      "It is prime number\n",
      "It is prime number\n",
      "It is prime number\n",
      "It is not a prime number\n",
      "It is prime number\n",
      "It is prime number\n",
      "It is prime number\n",
      "It is prime number\n",
      "It is prime number\n",
      "It is prime number\n"
     ]
    }
   ],
   "source": [
    "n=int(input(\"enter a number : \"))\n",
    "if n >= 2:\n",
    "    for i in range(2, n):\n",
    "        if n %i == 0:\n",
    "            print(\"It is not a prime number\")\n",
    "            break\n",
    "        else:\n",
    "            print(\"It is prime number\")\n",
    "else:\n",
    "    print(\"It is not a prime number\")"
   ]
  },
  {
   "cell_type": "code",
   "execution_count": null,
   "metadata": {},
   "outputs": [],
   "source": [
    "#joseph hocanin cozumu\n",
    "\n",
    "n = int(input(\"enter a number to check if it is a prime or not\"))\n",
    "count = 0\n",
    "\n",
    "for i in range(1, n+1):\n",
    "    if n % i == 0: count += 1\n",
    "        \n",
    "if (n == 0) or (n == 1) or (count>=3) : print(f\"{n} is not a prime number\")\n",
    "else: print(f\"{n} is a prime number\")"
   ]
  }
 ],
 "metadata": {
  "kernelspec": {
   "display_name": "Python 3",
   "language": "python",
   "name": "python3"
  },
  "language_info": {
   "codemirror_mode": {
    "name": "ipython",
    "version": 3
   },
   "file_extension": ".py",
   "mimetype": "text/x-python",
   "name": "python",
   "nbconvert_exporter": "python",
   "pygments_lexer": "ipython3",
   "version": "3.7.6"
  }
 },
 "nbformat": 4,
 "nbformat_minor": 4
}
