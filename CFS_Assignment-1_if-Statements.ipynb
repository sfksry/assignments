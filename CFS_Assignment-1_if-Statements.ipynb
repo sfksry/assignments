{
 "cells": [
  {
   "cell_type": "code",
   "execution_count": 3,
   "metadata": {},
   "outputs": [
    {
     "name": "stdout",
     "output_type": "stream",
     "text": [
      "Please enter a name: Ahmet\n",
      "Hello Ahmet see you later\n"
     ]
    }
   ],
   "source": [
    "key_name = \"Joseph\"\n",
    "entered_name = input (\"Please enter a name: \")\n",
    "if entered_name == key_name:\n",
    "    print(f\"Hello {key_name}! The password is W@12\")\n",
    "else:\n",
    "    print(f\"Hello {entered_name} see you later\")"
   ]
  },
  {
   "cell_type": "code",
   "execution_count": 4,
   "metadata": {},
   "outputs": [
    {
     "name": "stdout",
     "output_type": "stream",
     "text": [
      "Please enter a name: Joseph\n",
      "Hello Joseph! The password is W@12\n"
     ]
    }
   ],
   "source": [
    "key_name = \"Joseph\"\n",
    "entered_name = input (\"Please enter a name: \")\n",
    "if entered_name == key_name:\n",
    "    print(f\"Hello {key_name}! The password is W@12\")\n",
    "else:\n",
    "    print(f\"Hello {entered_name} see you later\")"
   ]
  },
  {
   "cell_type": "code",
   "execution_count": null,
   "metadata": {},
   "outputs": [],
   "source": []
  }
 ],
 "metadata": {
  "kernelspec": {
   "display_name": "Python 3",
   "language": "python",
   "name": "python3"
  },
  "language_info": {
   "codemirror_mode": {
    "name": "ipython",
    "version": 3
   },
   "file_extension": ".py",
   "mimetype": "text/x-python",
   "name": "python",
   "nbconvert_exporter": "python",
   "pygments_lexer": "ipython3",
   "version": "3.7.6"
  }
 },
 "nbformat": 4,
 "nbformat_minor": 4
}
