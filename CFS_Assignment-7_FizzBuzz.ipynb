{
 "cells": [
  {
   "cell_type": "code",
   "execution_count": null,
   "metadata": {
    "scrolled": true
   },
   "outputs": [],
   "source": [
    "numbers = range(1,100)\n",
    "x = list(filter(lambda x: print(\"FizzBuzz\") if x%3==0 and x%5==0 else (print(\"Buzz\") if x%5==0 else (print(\"Buzz\") if x%3==0 else print(x))),numbers))"
   ]
  },
  {
   "cell_type": "code",
   "execution_count": null,
   "metadata": {},
   "outputs": [],
   "source": [
    "numbers = range(1,100)\n",
    "for i in numbers :\n",
    "   print((lambda x: \"Fizzbuzz\" if x % 3 == 0 and x % 5 == 0 else(\"fizz\" if x % 3 == 0 else (\"buzz\" if x % 5 == 0 else x)))(i))"
   ]
  },
  {
   "cell_type": "code",
   "execution_count": null,
   "metadata": {},
   "outputs": [],
   "source": []
  }
 ],
 "metadata": {
  "kernelspec": {
   "display_name": "Python 3",
   "language": "python",
   "name": "python3"
  },
  "language_info": {
   "codemirror_mode": {
    "name": "ipython",
    "version": 3
   },
   "file_extension": ".py",
   "mimetype": "text/x-python",
   "name": "python",
   "nbconvert_exporter": "python",
   "pygments_lexer": "ipython3",
   "version": "3.7.6"
  }
 },
 "nbformat": 4,
 "nbformat_minor": 4
}
