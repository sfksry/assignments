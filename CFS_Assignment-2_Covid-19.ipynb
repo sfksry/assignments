{
 "cells": [
  {
   "cell_type": "code",
   "execution_count": 2,
   "metadata": {},
   "outputs": [
    {
     "name": "stdout",
     "output_type": "stream",
     "text": [
      "Are you a cigarette addict older than 75 years old? : No\n",
      "Do you have a severe chronic disease? : No\n",
      "Is your immune system too weak? : No\n",
      "You are not in risky group\n"
     ]
    }
   ],
   "source": [
    "# 1.cozum No cevabi arayarak and ile\n",
    "\n",
    "age = input(\"Are you a cigarette addict older than 75 years old? : \")\n",
    "chronic = input(\"Do you have a severe chronic disease? : \")\n",
    "immune = input(\"Is your immune system too weak? : \")\n",
    "\n",
    "if (age == \"No\") and (chronic == \"No\") and (immune == \"No\"):\n",
    "    print(\"You are not in risky group\")\n",
    "else:\n",
    "    print(\"You are in risky group\")"
   ]
  },
  {
   "cell_type": "code",
   "execution_count": 3,
   "metadata": {},
   "outputs": [
    {
     "name": "stdout",
     "output_type": "stream",
     "text": [
      "Are you a cigarette addict older than 75 years old? : Yes\n",
      "Do you have a severe chronic disease? : Yes\n",
      "Is your immune system too weak? : Yes\n",
      "You are in risky group\n"
     ]
    }
   ],
   "source": [
    "# 2.cozum Yes cevabi arayarak or ile\n",
    "\n",
    "age = input(\"Are you a cigarette addict older than 75 years old? : \")\n",
    "chronic = input(\"Do you have a severe chronic disease? : \")\n",
    "immune = input(\"Is your immune system too weak? : \")\n",
    "\n",
    "if (age == \"Yes\") or (chronic == \"Yes\") or (immune == \"Yes\"):\n",
    "    print(\"You are in risky group\")\n",
    "else:\n",
    "    print(\"You are not in risky group\")"
   ]
  },
  {
   "cell_type": "code",
   "execution_count": null,
   "metadata": {},
   "outputs": [],
   "source": []
  },
  {
   "cell_type": "code",
   "execution_count": null,
   "metadata": {},
   "outputs": [],
   "source": []
  }
 ],
 "metadata": {
  "kernelspec": {
   "display_name": "Python 3",
   "language": "python",
   "name": "python3"
  },
  "language_info": {
   "codemirror_mode": {
    "name": "ipython",
    "version": 3
   },
   "file_extension": ".py",
   "mimetype": "text/x-python",
   "name": "python",
   "nbconvert_exporter": "python",
   "pygments_lexer": "ipython3",
   "version": "3.7.6"
  }
 },
 "nbformat": 4,
 "nbformat_minor": 4
}
