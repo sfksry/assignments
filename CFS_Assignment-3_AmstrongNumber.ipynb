{
 "cells": [
  {
   "cell_type": "code",
   "execution_count": 1,
   "metadata": {},
   "outputs": [
    {
     "name": "stdout",
     "output_type": "stream",
     "text": [
      "Write a positive number17\n",
      "17 is not an Armstrong number\n"
     ]
    }
   ],
   "source": [
    "x=input(\"Write a positive number\")\n",
    "if x.isdigit():\n",
    "    t=sum([int(x[i])**len(x) for i in range(len(x))])\n",
    "    print(f\"{t} is an Armstrong number\" if t==int(x) else f\"{int(x)} is not an Armstrong number\")\n",
    "else:\n",
    "    print(f\"It is an invalid entry. Don't use non-numeric, float or negative values\")"
   ]
  },
  {
   "cell_type": "code",
   "execution_count": null,
   "metadata": {},
   "outputs": [],
   "source": []
  }
 ],
 "metadata": {
  "kernelspec": {
   "display_name": "Python 3",
   "language": "python",
   "name": "python3"
  },
  "language_info": {
   "codemirror_mode": {
    "name": "ipython",
    "version": 3
   },
   "file_extension": ".py",
   "mimetype": "text/x-python",
   "name": "python",
   "nbconvert_exporter": "python",
   "pygments_lexer": "ipython3",
   "version": "3.7.6"
  }
 },
 "nbformat": 4,
 "nbformat_minor": 4
}
